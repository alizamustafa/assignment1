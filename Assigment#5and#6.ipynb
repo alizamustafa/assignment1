{
 "cells": [
  {
   "cell_type": "markdown",
   "metadata": {},
   "source": [
    "# Assigment 5"
   ]
  },
  {
   "cell_type": "code",
   "execution_count": 9,
   "metadata": {},
   "outputs": [
    {
     "name": "stdout",
     "output_type": "stream",
     "text": [
      "Enter number:5\n",
      "120\n"
     ]
    }
   ],
   "source": [
    "def factorial(n):\n",
    "    if n>0:\n",
    "        f=1\n",
    "        for i in range(1,n+1):\n",
    "            f=f*i\n",
    "        print(f)\n",
    "num=int(input(\"Enter number:\"))\n",
    "factorial(num)"
   ]
  },
  {
   "cell_type": "code",
   "execution_count": null,
   "metadata": {},
   "outputs": [],
   "source": []
  },
  {
   "cell_type": "code",
   "execution_count": 29,
   "metadata": {},
   "outputs": [
    {
     "name": "stdout",
     "output_type": "stream",
     "text": [
      "Uppser case letter 8\n",
      "Lower case letter  10\n"
     ]
    }
   ],
   "source": [
    "def upperandlower(n):\n",
    "    num=0\n",
    "    low=0\n",
    "    for i in (n):\n",
    "        if i.isupper():\n",
    "            num=num+1\n",
    "        if i.islower():\n",
    "            low=low+1\n",
    "    print(\"Uppser case letter\",num)\n",
    "    print(\"Lower case letter \",low)\n",
    "upperandlower('ABCgjgisuguidHGFYU')\n",
    "    "
   ]
  },
  {
   "cell_type": "code",
   "execution_count": null,
   "metadata": {},
   "outputs": [],
   "source": []
  },
  {
   "cell_type": "code",
   "execution_count": 31,
   "metadata": {},
   "outputs": [
    {
     "name": "stdout",
     "output_type": "stream",
     "text": [
      "2\n",
      "2\n",
      "6\n",
      "8\n"
     ]
    }
   ],
   "source": [
    "def even(n):\n",
    "    for i in n:\n",
    "        if i%2==0:\n",
    "            print(i)\n",
    "list=[2,3,2,5,6,7,8]\n",
    "even(list)"
   ]
  },
  {
   "cell_type": "code",
   "execution_count": null,
   "metadata": {},
   "outputs": [],
   "source": []
  },
  {
   "cell_type": "code",
   "execution_count": 44,
   "metadata": {},
   "outputs": [
    {
     "name": "stdout",
     "output_type": "stream",
     "text": [
      "madam it's palindrom\n"
     ]
    }
   ],
   "source": [
    "def palindrom(b):\n",
    "    a=\"\".join(reversed(b))\n",
    "    if a==b:\n",
    "        print(b,\"it's palindrom\")\n",
    "    if a!=b:\n",
    "        print(b,\"it's not palindrom\")\n",
    "palindrom(\"madam\")"
   ]
  },
  {
   "cell_type": "code",
   "execution_count": null,
   "metadata": {},
   "outputs": [],
   "source": []
  },
  {
   "cell_type": "code",
   "execution_count": 50,
   "metadata": {},
   "outputs": [
    {
     "name": "stdout",
     "output_type": "stream",
     "text": [
      "Check number is prime or not=4\n",
      "Not a prime number\n"
     ]
    }
   ],
   "source": [
    "def prime(n):\n",
    "    if n==2:\n",
    "        print(\"prime number\")\n",
    "    elif n%2==1:\n",
    "        print(\"prime number\")\n",
    "    else:\n",
    "        print(\"Not a prime number\")\n",
    "inp=int(input(\"Check number is prime or not=\"))\n",
    "prime(inp)"
   ]
  },
  {
   "cell_type": "code",
   "execution_count": null,
   "metadata": {},
   "outputs": [],
   "source": []
  },
  {
   "cell_type": "code",
   "execution_count": 61,
   "metadata": {},
   "outputs": [
    {
     "name": "stdout",
     "output_type": "stream",
     "text": [
      "(['Rice', 'sugar', 'kabab', 'Biryani', 'Tikka', 'Malai boti', 'Nihari'],)\n"
     ]
    }
   ],
   "source": [
    "def multiple(*p):\n",
    "    print(p)\n",
    "list=['Rice','sugar',\"kabab\",\"Biryani\",\"Tikka\",\"Malai boti\",\"Nihari\"]\n",
    "multiple(list)"
   ]
  },
  {
   "cell_type": "markdown",
   "metadata": {},
   "source": [
    "# Assigment 6"
   ]
  },
  {
   "cell_type": "markdown",
   "metadata": {},
   "source": [
    "Define Object oriented programming language?\n",
    "\n",
    "ANS:\n",
    "Object-oriented programming (OOP) refers to a type of computer programming (software design) in which programmers define the data type of a data structure, and also the types of operations (functions) that can be applied to the data structure."
   ]
  },
  {
   "cell_type": "markdown",
   "metadata": {},
   "source": [
    "# Q2:List down the benefits of Oop?\n",
    "\n",
    "\n"
   ]
  },
  {
   "cell_type": "markdown",
   "metadata": {},
   "source": [
    "Advantages of OOP: It provides a clear modular structure for programs which makes it good for defining abstract datatypes in which implementation details are hidden. Objects can also be reused within an across applications. The reuse of software also lowers the cost of development."
   ]
  },
  {
   "cell_type": "markdown",
   "metadata": {},
   "source": [
    "# Difference between function and method"
   ]
  },
  {
   "cell_type": "markdown",
   "metadata": {},
   "source": [
    "A function is a piece of code that is called by name. It can be passed data to operate on (i.e. the parameters) and can optionally return data (the return value). All data that is passed to a function is explicitly passed. A method is a piece of code that is called by a name that is associated with an object."
   ]
  },
  {
   "cell_type": "markdown",
   "metadata": {},
   "source": [
    "# Define the following term?"
   ]
  },
  {
   "cell_type": "markdown",
   "metadata": {},
   "source": [
    "# Class"
   ]
  },
  {
   "cell_type": "markdown",
   "metadata": {},
   "source": [
    "a class is an extensible program-code-template for creating objects, providing initial values for state (member variables) and implementations of behavior (member functions or methods)."
   ]
  },
  {
   "cell_type": "markdown",
   "metadata": {},
   "source": [
    "# Object"
   ]
  },
  {
   "cell_type": "markdown",
   "metadata": {},
   "source": [
    "objects are the things you think about first in designing a program and they are also the units of code that are eventually derived from the process. ... Each object is an instance of a particular class or subclass with the class's own methods or procedures and data variables"
   ]
  },
  {
   "cell_type": "markdown",
   "metadata": {},
   "source": [
    "# Attribute"
   ]
  },
  {
   "cell_type": "markdown",
   "metadata": {},
   "source": [
    "classes and objects have attributes. Attributes are data stored inside a class or instance and represent the state or quality of the class or instance. In short, attributes store information about the instance."
   ]
  },
  {
   "cell_type": "markdown",
   "metadata": {},
   "source": [
    "# Behaviour"
   ]
  },
  {
   "cell_type": "markdown",
   "metadata": {},
   "source": [
    "Behavior. A class's behavior determines how an instance of that class operates; for example, how it will \"react\" if asked to do something by another class or object or if its internal state changes. Behavior is the only way objects can do anything to themselves or have anything done to them."
   ]
  },
  {
   "cell_type": "markdown",
   "metadata": {},
   "source": [
    "Question 5:\n",
    "Write a code in python in which create a class named it Car which\n",
    "have 5 attributes such like (model, color and name etc.) and 3\n",
    "methods. And create 5 object instance from that class."
   ]
  },
  {
   "cell_type": "code",
   "execution_count": 22,
   "metadata": {},
   "outputs": [
    {
     "name": "stdout",
     "output_type": "stream",
     "text": [
      "2018\n",
      "lamborghini\n"
     ]
    }
   ],
   "source": [
    "name='lamborghini'\n",
    "price='30,000$'\n",
    "model='2018'\n",
    "reg_number='WA123'\n",
    "color='black'\n",
    "class car():\n",
    "    def __init__(self,model,color,name,price,reg_number):\n",
    "        self.model=model\n",
    "        self.color=color\n",
    "        self.name=name\n",
    "        self.price=price\n",
    "        self.reg_numer=reg_number\n",
    "    def model1(self):\n",
    "        return self.model\n",
    "    def color1(self):\n",
    "        return self.color\n",
    "    def name1(self):\n",
    "        return self.name\n",
    "newcar=car(model,color,name,price,reg_number)\n",
    "print(newcar.model1())\n",
    "print(newcar.name1())"
   ]
  },
  {
   "cell_type": "code",
   "execution_count": null,
   "metadata": {},
   "outputs": [],
   "source": []
  }
 ],
 "metadata": {
  "kernelspec": {
   "display_name": "Python 3",
   "language": "python",
   "name": "python3"
  },
  "language_info": {
   "codemirror_mode": {
    "name": "ipython",
    "version": 3
   },
   "file_extension": ".py",
   "mimetype": "text/x-python",
   "name": "python",
   "nbconvert_exporter": "python",
   "pygments_lexer": "ipython3",
   "version": "3.7.4"
  }
 },
 "nbformat": 4,
 "nbformat_minor": 2
}
