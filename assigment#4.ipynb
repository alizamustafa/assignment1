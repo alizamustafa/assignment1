{
 "cells": [
  {
   "cell_type": "markdown",
   "metadata": {},
   "source": [
    "Question1: Use a dictionary to store information about a person you know. Store their first name, last name, age, and the city in which they live. You should have keys such as first_name, last_name, age, and city. Print each piece of information stored in your dictionary. Add a new key value pair about qualification then update the qualification value to high academic level then delete it."
   ]
  },
  {
   "cell_type": "code",
   "execution_count": 1,
   "metadata": {},
   "outputs": [
    {
     "name": "stdout",
     "output_type": "stream",
     "text": [
      "{'first_name': 'Salman', 'last_name': 'Khan', 'age': '20', 'city': 'Karachi'}\n",
      "Added= {'first_name': 'Salman', 'last_name': 'Khan', 'age': '20', 'city': 'Karachi', 'Qualification': 'Undergraduate'}\n",
      "Updated= {'first_name': 'Salman', 'last_name': 'Khan', 'age': 21, 'city': 'Karachi', 'Qualification': 'Undergraduate'}\n",
      "Deleted= {'first_name': 'Salman', 'last_name': 'Khan', 'age': 21, 'Qualification': 'Undergraduate'}\n"
     ]
    }
   ],
   "source": [
    "info={\n",
    "    \"first_name\":'Salman',\n",
    "    \"last_name\":'Khan',\n",
    "    \"age\":'20',\n",
    "   \"city\":'Karachi'\n",
    "}\n",
    "print(info)\n",
    "info['Qualification']='Undergraduate'\n",
    "print(\"Added=\",info)\n",
    "info['age']=21\n",
    "print(\"Updated=\",info)\n",
    "del info[\"city\"]\n",
    "print(\"Deleted=\",info)"
   ]
  },
  {
   "cell_type": "markdown",
   "metadata": {},
   "source": [
    "Question2: Make a dictionary called cities. Use the names of three cities as keys in your dictionary. Create a dictionary of information about each city and include the country that the city is in, its approximate population, and one fact about that city. The keys for each city’s dictionary should be something like country, population, and fact. Print the name of each city and all of the information you have stored about it."
   ]
  },
  {
   "cell_type": "code",
   "execution_count": 2,
   "metadata": {},
   "outputs": [],
   "source": [
    "cities={\n",
    "    'Karachi' : {'Country':'pakistan','Population':'14.91M','fact':'Six largest city'},\n",
    "    'istanbul' : {'Country':'Turkey','Population':'15.07M','fact':'Istanbul (ancient Byzantium) was founded on Seven Hills like Rome.'},\n",
    "    'Beijing' : {'Country':'China',\"Population\":'1.386B','fact':\"China is officially known as the People's Republic of China.\"}\n",
    "}"
   ]
  },
  {
   "cell_type": "code",
   "execution_count": 3,
   "metadata": {},
   "outputs": [
    {
     "name": "stdout",
     "output_type": "stream",
     "text": [
      "pakistan\n",
      "China\n",
      "15.07M\n"
     ]
    }
   ],
   "source": [
    "print(cities['Karachi']['Country'])\n",
    "print(cities['Beijing']['Country'])\n",
    "print(cities[\"istanbul\"][\"Population\"])\n",
    "#print(cities['istanbul']['Country'])"
   ]
  },
  {
   "cell_type": "markdown",
   "metadata": {},
   "source": [
    "Question3: A movie theater charges different ticket prices depending on a person’s age. If a person is under the age of 3, the ticket is free; if they are between 3 and 12, the ticket is $10; and if they are over age 12, the ticket is $15. Write a loop in which you ask users their age, and then tell them the cost of their movie ticket."
   ]
  },
  {
   "cell_type": "code",
   "execution_count": 4,
   "metadata": {},
   "outputs": [
    {
     "name": "stdout",
     "output_type": "stream",
     "text": [
      "How much iteration will loop run=2\n",
      "Enter age=32\n",
      "15$\n",
      "Enter age=22\n",
      "15$\n"
     ]
    }
   ],
   "source": [
    "rangee=int(input(\"How much iteration will loop run=\"))\n",
    "for i in range(0,rangee):\n",
    "    age=int(input(\"Enter age=\"))\n",
    "    if age<3:\n",
    "        print(\"Ticket is free\")\n",
    "    if age==3 and age==12:\n",
    "        print(\"10$\")\n",
    "    if age>12:\n",
    "        print(\"15$\")"
   ]
  },
  {
   "cell_type": "markdown",
   "metadata": {},
   "source": [
    "Question4: Write a function called favorite_book() that accepts one parameter, title. The function should print a message, such as One of my favorite books is Alice in Wonderland. Call the function, making sure to include a book title as an argument in the function call."
   ]
  },
  {
   "cell_type": "code",
   "execution_count": 5,
   "metadata": {},
   "outputs": [
    {
     "name": "stdout",
     "output_type": "stream",
     "text": [
      " One of my favorite books is Alice in Wonderland.\n"
     ]
    }
   ],
   "source": [
    "def favorite_book(title):\n",
    "    print(title)\n",
    "favorite_book(\" One of my favorite books is Alice in Wonderland.\")"
   ]
  },
  {
   "cell_type": "markdown",
   "metadata": {},
   "source": [
    "Question5: Guess the number game Write a program which randomly generate a number between 1 to 30 and ask the user in input field to guess the correct number. Give three chances to user guess the number and also give hint to user if hidden number is greater or smaller than the number he given to input field."
   ]
  },
  {
   "cell_type": "code",
   "execution_count": 6,
   "metadata": {},
   "outputs": [
    {
     "name": "stdout",
     "output_type": "stream",
     "text": [
      "Guess the correct number:2\n",
      "Wrong/n hint:NUmber is greater than 1 and less then 31\n",
      "Guess the correct number:23\n",
      "Wrong/n hint:NUmber is greater than 1 and less then 31\n",
      "Guess the correct number:11\n",
      "Wrong/n hint:NUmber is greater than 1 and less then 31\n"
     ]
    }
   ],
   "source": [
    "import random \n",
    "r=random.randrange(1, 30)\n",
    "for i in range(0,3):\n",
    "    user=int(input(\"Guess the correct number:\"))\n",
    "    if user==r:\n",
    "        print(\"Congrats you guess\")\n",
    "        break\n",
    "    else:\n",
    "        print(\"Wrong/n hint:NUmber is greater than 1 and less then 31\")"
   ]
  },
  {
   "cell_type": "code",
   "execution_count": null,
   "metadata": {},
   "outputs": [],
   "source": []
  }
 ],
 "metadata": {
  "kernelspec": {
   "display_name": "Python 3",
   "language": "python",
   "name": "python3"
  },
  "language_info": {
   "codemirror_mode": {
    "name": "ipython",
    "version": 3
   },
   "file_extension": ".py",
   "mimetype": "text/x-python",
   "name": "python",
   "nbconvert_exporter": "python",
   "pygments_lexer": "ipython3",
   "version": "3.7.4"
  }
 },
 "nbformat": 4,
 "nbformat_minor": 2
}
