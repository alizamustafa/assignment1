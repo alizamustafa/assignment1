{
 "cells": [
  {
   "cell_type": "code",
   "execution_count": 7,
   "metadata": {},
   "outputs": [
    {
     "name": "stdout",
     "output_type": "stream",
     "text": [
      "enter your english marks78\n",
      "enter your chemistry marks67\n",
      "enter your urdu marks59\n",
      "enter your math marks79\n",
      "enter your physics marks67\n",
      "total marks= 350\n",
      "70.0 %\n",
      "Grade:a\n"
     ]
    }
   ],
   "source": [
    "english=int(input(\"enter your english marks\"))\n",
    "chemistry=int(input(\"enter your chemistry marks\"))\n",
    "urdu=int(input(\"enter your urdu marks\"))\n",
    "math=int(input(\"enter your math marks\"))\n",
    "physics=int(input(\"enter your physics marks\"))\n",
    "total=english+math+chemistry+physics+urdu\n",
    "print(\"total marks=\",total)\n",
    "per=total/5\n",
    "print(per,\"%\")\n",
    "if per>=80 and per<=100:\n",
    "    print(\"Grade:a+\")\n",
    "if per>=70 and per<80:\n",
    "    print(\"Grade:a\")\n",
    "if per>=60 and per<70:\n",
    "    print(\"Grade:b\")\n",
    "if per>=50 and per<60:\n",
    "    print(\"Grade:c\")\n",
    "if per<50:\n",
    "    print(\"FAIL\")\n"
   ]
  },
  {
   "cell_type": "code",
   "execution_count": 15,
   "metadata": {},
   "outputs": [
    {
     "name": "stdout",
     "output_type": "stream",
     "text": [
      "enter any number3\n",
      "num is odd\n"
     ]
    }
   ],
   "source": [
    "num=int(input(\"enter any number\"))\n",
    "if num/2==0:\n",
    "    print(\"num is even\")\n",
    "else:\n",
    "     print(\"num is odd\")"
   ]
  },
  {
   "cell_type": "code",
   "execution_count": 3,
   "metadata": {},
   "outputs": [
    {
     "name": "stdout",
     "output_type": "stream",
     "text": [
      "length is 3\n"
     ]
    }
   ],
   "source": [
    "li=['apple','grapes','peanut']\n",
    "print(\"length is\",len(li))"
   ]
  },
  {
   "cell_type": "code",
   "execution_count": 6,
   "metadata": {},
   "outputs": [
    {
     "name": "stdout",
     "output_type": "stream",
     "text": [
      "sum is 33\n"
     ]
    }
   ],
   "source": [
    "li=[1,2,4,5,7,6,8]\n",
    "sum=0\n",
    "for i in li:\n",
    "    sum=sum+i\n",
    "print(\"sum is\",sum)"
   ]
  },
  {
   "cell_type": "code",
   "execution_count": 9,
   "metadata": {},
   "outputs": [
    {
     "name": "stdout",
     "output_type": "stream",
     "text": [
      "8\n"
     ]
    }
   ],
   "source": [
    "li=[1,3,4,5,7,8]\n",
    "f=li[0]\n",
    "for i in li:\n",
    "    if i+1>f:\n",
    "        f=i\n",
    "print(i)\n",
    "        "
   ]
  },
  {
   "cell_type": "code",
   "execution_count": 13,
   "metadata": {},
   "outputs": [
    {
     "name": "stdout",
     "output_type": "stream",
     "text": [
      "3\n",
      "1\n",
      "3\n"
     ]
    }
   ],
   "source": [
    "li=[6,45,67,3,1,3,56,7]\n",
    "ele=5\n",
    "for i in li:\n",
    "    if i<5:\n",
    "        print(i)"
   ]
  },
  {
   "cell_type": "code",
   "execution_count": null,
   "metadata": {},
   "outputs": [],
   "source": []
  }
 ],
 "metadata": {
  "kernelspec": {
   "display_name": "Python 3",
   "language": "python",
   "name": "python3"
  },
  "language_info": {
   "codemirror_mode": {
    "name": "ipython",
    "version": 3
   },
   "file_extension": ".py",
   "mimetype": "text/x-python",
   "name": "python",
   "nbconvert_exporter": "python",
   "pygments_lexer": "ipython3",
   "version": "3.7.4"
  }
 },
 "nbformat": 4,
 "nbformat_minor": 2
}
